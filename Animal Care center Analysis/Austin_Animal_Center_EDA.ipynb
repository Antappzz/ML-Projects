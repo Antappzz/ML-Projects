{
 "cells": [
  {
   "cell_type": "markdown",
   "id": "5a4cded0",
   "metadata": {},
   "source": [
    "# Importing Data and Cleaning"
   ]
  },
  {
   "cell_type": "code",
   "execution_count": 43,
   "id": "8f9b129b",
   "metadata": {},
   "outputs": [],
   "source": [
    "#importing necessary libraries\n",
    "import numpy as np \n",
    "import pandas as pd \n",
    "import seaborn as sns\n",
    "import matplotlib.pyplot as plt"
   ]
  },
  {
   "cell_type": "code",
   "execution_count": 44,
   "id": "cf3e39a7",
   "metadata": {},
   "outputs": [
    {
     "data": {
      "text/html": [
       "<div>\n",
       "<style scoped>\n",
       "    .dataframe tbody tr th:only-of-type {\n",
       "        vertical-align: middle;\n",
       "    }\n",
       "\n",
       "    .dataframe tbody tr th {\n",
       "        vertical-align: top;\n",
       "    }\n",
       "\n",
       "    .dataframe thead th {\n",
       "        text-align: right;\n",
       "    }\n",
       "</style>\n",
       "<table border=\"1\" class=\"dataframe\">\n",
       "  <thead>\n",
       "    <tr style=\"text-align: right;\">\n",
       "      <th></th>\n",
       "      <th>Animal ID</th>\n",
       "      <th>Name</th>\n",
       "      <th>DateTime</th>\n",
       "      <th>MonthYear</th>\n",
       "      <th>Found Location</th>\n",
       "      <th>Intake Type</th>\n",
       "      <th>Intake Condition</th>\n",
       "      <th>Animal Type</th>\n",
       "      <th>Sex upon Intake</th>\n",
       "      <th>Age upon Intake</th>\n",
       "      <th>Breed</th>\n",
       "      <th>Color</th>\n",
       "    </tr>\n",
       "  </thead>\n",
       "  <tbody>\n",
       "    <tr>\n",
       "      <th>0</th>\n",
       "      <td>A786884</td>\n",
       "      <td>*Brock</td>\n",
       "      <td>01/03/2019 04:19:00 PM</td>\n",
       "      <td>01/03/2019 04:19:00 PM</td>\n",
       "      <td>2501 Magin Meadow Dr in Austin (TX)</td>\n",
       "      <td>Stray</td>\n",
       "      <td>Normal</td>\n",
       "      <td>Dog</td>\n",
       "      <td>Neutered Male</td>\n",
       "      <td>2 years</td>\n",
       "      <td>Beagle Mix</td>\n",
       "      <td>Tricolor</td>\n",
       "    </tr>\n",
       "    <tr>\n",
       "      <th>1</th>\n",
       "      <td>A706918</td>\n",
       "      <td>Belle</td>\n",
       "      <td>07/05/2015 12:59:00 PM</td>\n",
       "      <td>07/05/2015 12:59:00 PM</td>\n",
       "      <td>9409 Bluegrass Dr in Austin (TX)</td>\n",
       "      <td>Stray</td>\n",
       "      <td>Normal</td>\n",
       "      <td>Dog</td>\n",
       "      <td>Spayed Female</td>\n",
       "      <td>8 years</td>\n",
       "      <td>English Springer Spaniel</td>\n",
       "      <td>White/Liver</td>\n",
       "    </tr>\n",
       "    <tr>\n",
       "      <th>2</th>\n",
       "      <td>A724273</td>\n",
       "      <td>Runster</td>\n",
       "      <td>04/14/2016 06:43:00 PM</td>\n",
       "      <td>04/14/2016 06:43:00 PM</td>\n",
       "      <td>2818 Palomino Trail in Austin (TX)</td>\n",
       "      <td>Stray</td>\n",
       "      <td>Normal</td>\n",
       "      <td>Dog</td>\n",
       "      <td>Intact Male</td>\n",
       "      <td>11 months</td>\n",
       "      <td>Basenji Mix</td>\n",
       "      <td>Sable/White</td>\n",
       "    </tr>\n",
       "    <tr>\n",
       "      <th>3</th>\n",
       "      <td>A665644</td>\n",
       "      <td>NaN</td>\n",
       "      <td>10/21/2013 07:59:00 AM</td>\n",
       "      <td>10/21/2013 07:59:00 AM</td>\n",
       "      <td>Austin (TX)</td>\n",
       "      <td>Stray</td>\n",
       "      <td>Sick</td>\n",
       "      <td>Cat</td>\n",
       "      <td>Intact Female</td>\n",
       "      <td>4 weeks</td>\n",
       "      <td>Domestic Shorthair Mix</td>\n",
       "      <td>Calico</td>\n",
       "    </tr>\n",
       "    <tr>\n",
       "      <th>4</th>\n",
       "      <td>A682524</td>\n",
       "      <td>Rio</td>\n",
       "      <td>06/29/2014 10:38:00 AM</td>\n",
       "      <td>06/29/2014 10:38:00 AM</td>\n",
       "      <td>800 Grove Blvd in Austin (TX)</td>\n",
       "      <td>Stray</td>\n",
       "      <td>Normal</td>\n",
       "      <td>Dog</td>\n",
       "      <td>Neutered Male</td>\n",
       "      <td>4 years</td>\n",
       "      <td>Doberman Pinsch/Australian Cattle Dog</td>\n",
       "      <td>Tan/Gray</td>\n",
       "    </tr>\n",
       "  </tbody>\n",
       "</table>\n",
       "</div>"
      ],
      "text/plain": [
       "  Animal ID     Name                DateTime               MonthYear  \\\n",
       "0   A786884   *Brock  01/03/2019 04:19:00 PM  01/03/2019 04:19:00 PM   \n",
       "1   A706918    Belle  07/05/2015 12:59:00 PM  07/05/2015 12:59:00 PM   \n",
       "2   A724273  Runster  04/14/2016 06:43:00 PM  04/14/2016 06:43:00 PM   \n",
       "3   A665644      NaN  10/21/2013 07:59:00 AM  10/21/2013 07:59:00 AM   \n",
       "4   A682524      Rio  06/29/2014 10:38:00 AM  06/29/2014 10:38:00 AM   \n",
       "\n",
       "                        Found Location Intake Type Intake Condition  \\\n",
       "0  2501 Magin Meadow Dr in Austin (TX)       Stray           Normal   \n",
       "1     9409 Bluegrass Dr in Austin (TX)       Stray           Normal   \n",
       "2   2818 Palomino Trail in Austin (TX)       Stray           Normal   \n",
       "3                          Austin (TX)       Stray             Sick   \n",
       "4        800 Grove Blvd in Austin (TX)       Stray           Normal   \n",
       "\n",
       "  Animal Type Sex upon Intake Age upon Intake  \\\n",
       "0         Dog   Neutered Male         2 years   \n",
       "1         Dog   Spayed Female         8 years   \n",
       "2         Dog     Intact Male       11 months   \n",
       "3         Cat   Intact Female         4 weeks   \n",
       "4         Dog   Neutered Male         4 years   \n",
       "\n",
       "                                   Breed        Color  \n",
       "0                             Beagle Mix     Tricolor  \n",
       "1               English Springer Spaniel  White/Liver  \n",
       "2                            Basenji Mix  Sable/White  \n",
       "3                 Domestic Shorthair Mix       Calico  \n",
       "4  Doberman Pinsch/Australian Cattle Dog     Tan/Gray  "
      ]
     },
     "execution_count": 44,
     "metadata": {},
     "output_type": "execute_result"
    }
   ],
   "source": [
    "#importing data from csv file\n",
    "df = pd.read_csv('C:/Users/Volkan/Desktop/Visualization/Project/Austin_Animal_Center_Intakes.csv')\n",
    "df.head()"
   ]
  },
  {
   "cell_type": "code",
   "execution_count": 45,
   "id": "72018200",
   "metadata": {},
   "outputs": [
    {
     "name": "stdout",
     "output_type": "stream",
     "text": [
      "<class 'pandas.core.frame.DataFrame'>\n",
      "RangeIndex: 124120 entries, 0 to 124119\n",
      "Data columns (total 12 columns):\n",
      " #   Column            Non-Null Count   Dtype \n",
      "---  ------            --------------   ----- \n",
      " 0   Animal ID         124120 non-null  object\n",
      " 1   Name              85069 non-null   object\n",
      " 2   DateTime          124120 non-null  object\n",
      " 3   MonthYear         124120 non-null  object\n",
      " 4   Found Location    124120 non-null  object\n",
      " 5   Intake Type       124120 non-null  object\n",
      " 6   Intake Condition  124120 non-null  object\n",
      " 7   Animal Type       124120 non-null  object\n",
      " 8   Sex upon Intake   124119 non-null  object\n",
      " 9   Age upon Intake   124120 non-null  object\n",
      " 10  Breed             124120 non-null  object\n",
      " 11  Color             124120 non-null  object\n",
      "dtypes: object(12)\n",
      "memory usage: 11.4+ MB\n"
     ]
    }
   ],
   "source": [
    "df.info()"
   ]
  },
  {
   "cell_type": "markdown",
   "id": "1f1e5175",
   "metadata": {},
   "source": [
    "## Dropping Redundant Data\n",
    "DateTime and MonthYear columns in both DataFrames appear to be redundant; if redundant, drop the 'MonthYear' column."
   ]
  },
  {
   "cell_type": "code",
   "execution_count": 46,
   "id": "dc5f698d",
   "metadata": {},
   "outputs": [
    {
     "name": "stdout",
     "output_type": "stream",
     "text": [
      "Animal ID           object\n",
      "Name                object\n",
      "DateTime            object\n",
      "Found Location      object\n",
      "Intake Type         object\n",
      "Intake Condition    object\n",
      "Animal Type         object\n",
      "Sex upon Intake     object\n",
      "Age upon Intake     object\n",
      "Breed               object\n",
      "Color               object\n",
      "dtype: object\n"
     ]
    }
   ],
   "source": [
    "def dropdupcols(df,col1,col2):\n",
    "    if (df[col1] == df[col2]).mean() == 1:\n",
    "        df.drop(columns=col2,inplace=True)\n",
    "        print(df.dtypes)\n",
    "\n",
    "dropdupcols(df,'DateTime','MonthYear')"
   ]
  },
  {
   "cell_type": "code",
   "execution_count": 47,
   "id": "17fa7eed",
   "metadata": {},
   "outputs": [
    {
     "data": {
      "text/html": [
       "<div>\n",
       "<style scoped>\n",
       "    .dataframe tbody tr th:only-of-type {\n",
       "        vertical-align: middle;\n",
       "    }\n",
       "\n",
       "    .dataframe tbody tr th {\n",
       "        vertical-align: top;\n",
       "    }\n",
       "\n",
       "    .dataframe thead th {\n",
       "        text-align: right;\n",
       "    }\n",
       "</style>\n",
       "<table border=\"1\" class=\"dataframe\">\n",
       "  <thead>\n",
       "    <tr style=\"text-align: right;\">\n",
       "      <th></th>\n",
       "      <th>Animal ID</th>\n",
       "      <th>Name</th>\n",
       "      <th>DateTime</th>\n",
       "      <th>Found Location</th>\n",
       "      <th>Intake Type</th>\n",
       "      <th>Intake Condition</th>\n",
       "      <th>Animal Type</th>\n",
       "      <th>Sex upon Intake</th>\n",
       "      <th>Age upon Intake</th>\n",
       "      <th>Breed</th>\n",
       "      <th>Color</th>\n",
       "    </tr>\n",
       "  </thead>\n",
       "  <tbody>\n",
       "    <tr>\n",
       "      <th>0</th>\n",
       "      <td>A786884</td>\n",
       "      <td>*Brock</td>\n",
       "      <td>01/03/2019 04:19:00 PM</td>\n",
       "      <td>2501 Magin Meadow Dr in Austin (TX)</td>\n",
       "      <td>Stray</td>\n",
       "      <td>Normal</td>\n",
       "      <td>Dog</td>\n",
       "      <td>Neutered Male</td>\n",
       "      <td>2 years</td>\n",
       "      <td>Beagle Mix</td>\n",
       "      <td>Tricolor</td>\n",
       "    </tr>\n",
       "    <tr>\n",
       "      <th>1</th>\n",
       "      <td>A706918</td>\n",
       "      <td>Belle</td>\n",
       "      <td>07/05/2015 12:59:00 PM</td>\n",
       "      <td>9409 Bluegrass Dr in Austin (TX)</td>\n",
       "      <td>Stray</td>\n",
       "      <td>Normal</td>\n",
       "      <td>Dog</td>\n",
       "      <td>Spayed Female</td>\n",
       "      <td>8 years</td>\n",
       "      <td>English Springer Spaniel</td>\n",
       "      <td>White/Liver</td>\n",
       "    </tr>\n",
       "    <tr>\n",
       "      <th>2</th>\n",
       "      <td>A724273</td>\n",
       "      <td>Runster</td>\n",
       "      <td>04/14/2016 06:43:00 PM</td>\n",
       "      <td>2818 Palomino Trail in Austin (TX)</td>\n",
       "      <td>Stray</td>\n",
       "      <td>Normal</td>\n",
       "      <td>Dog</td>\n",
       "      <td>Intact Male</td>\n",
       "      <td>11 months</td>\n",
       "      <td>Basenji Mix</td>\n",
       "      <td>Sable/White</td>\n",
       "    </tr>\n",
       "    <tr>\n",
       "      <th>3</th>\n",
       "      <td>A665644</td>\n",
       "      <td>NaN</td>\n",
       "      <td>10/21/2013 07:59:00 AM</td>\n",
       "      <td>Austin (TX)</td>\n",
       "      <td>Stray</td>\n",
       "      <td>Sick</td>\n",
       "      <td>Cat</td>\n",
       "      <td>Intact Female</td>\n",
       "      <td>4 weeks</td>\n",
       "      <td>Domestic Shorthair Mix</td>\n",
       "      <td>Calico</td>\n",
       "    </tr>\n",
       "    <tr>\n",
       "      <th>4</th>\n",
       "      <td>A682524</td>\n",
       "      <td>Rio</td>\n",
       "      <td>06/29/2014 10:38:00 AM</td>\n",
       "      <td>800 Grove Blvd in Austin (TX)</td>\n",
       "      <td>Stray</td>\n",
       "      <td>Normal</td>\n",
       "      <td>Dog</td>\n",
       "      <td>Neutered Male</td>\n",
       "      <td>4 years</td>\n",
       "      <td>Doberman Pinsch/Australian Cattle Dog</td>\n",
       "      <td>Tan/Gray</td>\n",
       "    </tr>\n",
       "  </tbody>\n",
       "</table>\n",
       "</div>"
      ],
      "text/plain": [
       "  Animal ID     Name                DateTime  \\\n",
       "0   A786884   *Brock  01/03/2019 04:19:00 PM   \n",
       "1   A706918    Belle  07/05/2015 12:59:00 PM   \n",
       "2   A724273  Runster  04/14/2016 06:43:00 PM   \n",
       "3   A665644      NaN  10/21/2013 07:59:00 AM   \n",
       "4   A682524      Rio  06/29/2014 10:38:00 AM   \n",
       "\n",
       "                        Found Location Intake Type Intake Condition  \\\n",
       "0  2501 Magin Meadow Dr in Austin (TX)       Stray           Normal   \n",
       "1     9409 Bluegrass Dr in Austin (TX)       Stray           Normal   \n",
       "2   2818 Palomino Trail in Austin (TX)       Stray           Normal   \n",
       "3                          Austin (TX)       Stray             Sick   \n",
       "4        800 Grove Blvd in Austin (TX)       Stray           Normal   \n",
       "\n",
       "  Animal Type Sex upon Intake Age upon Intake  \\\n",
       "0         Dog   Neutered Male         2 years   \n",
       "1         Dog   Spayed Female         8 years   \n",
       "2         Dog     Intact Male       11 months   \n",
       "3         Cat   Intact Female         4 weeks   \n",
       "4         Dog   Neutered Male         4 years   \n",
       "\n",
       "                                   Breed        Color  \n",
       "0                             Beagle Mix     Tricolor  \n",
       "1               English Springer Spaniel  White/Liver  \n",
       "2                            Basenji Mix  Sable/White  \n",
       "3                 Domestic Shorthair Mix       Calico  \n",
       "4  Doberman Pinsch/Australian Cattle Dog     Tan/Gray  "
      ]
     },
     "execution_count": 47,
     "metadata": {},
     "output_type": "execute_result"
    }
   ],
   "source": [
    "df.head()"
   ]
  },
  {
   "cell_type": "markdown",
   "id": "c516a8e4",
   "metadata": {},
   "source": [
    "## Converting data types to categories"
   ]
  },
  {
   "cell_type": "code",
   "execution_count": 48,
   "id": "bedc70ff",
   "metadata": {},
   "outputs": [],
   "source": [
    "df['Intake Type'] = df['Intake Type'].astype('category')\n",
    "df['Intake Condition'] = df['Intake Condition'].astype('category')\n",
    "df['Animal Type'] = df['Animal Type'].astype('category')\n",
    "df['Sex upon Intake'] = df['Sex upon Intake'].astype('category')"
   ]
  },
  {
   "cell_type": "code",
   "execution_count": 49,
   "id": "8e9a4edd",
   "metadata": {},
   "outputs": [
    {
     "name": "stdout",
     "output_type": "stream",
     "text": [
      "Intakes Data Types\n",
      " Animal ID             object\n",
      "Name                  object\n",
      "DateTime              object\n",
      "Found Location        object\n",
      "Intake Type         category\n",
      "Intake Condition    category\n",
      "Animal Type         category\n",
      "Sex upon Intake     category\n",
      "Age upon Intake       object\n",
      "Breed                 object\n",
      "Color                 object\n",
      "dtype: object\n"
     ]
    }
   ],
   "source": [
    "print(\"Intakes Data Types\\n\",df.dtypes)"
   ]
  },
  {
   "cell_type": "markdown",
   "id": "d299d92d",
   "metadata": {},
   "source": [
    "## Check for missing values\n",
    "* There are some null values in \"Name\" and \"Sex upon Intake\" columns of the dataframe that may or may not need to be handled:\n"
   ]
  },
  {
   "cell_type": "code",
   "execution_count": 50,
   "id": "7e4d89c7",
   "metadata": {},
   "outputs": [
    {
     "name": "stdout",
     "output_type": "stream",
     "text": [
      "Intakes\n",
      "\n",
      "Animal ID - 0.000%\n",
      "Name - 31.462%\n",
      "DateTime - 0.000%\n",
      "Found Location - 0.000%\n",
      "Intake Type - 0.000%\n",
      "Intake Condition - 0.000%\n",
      "Animal Type - 0.000%\n",
      "Sex upon Intake - 0.001%\n",
      "Age upon Intake - 0.000%\n",
      "Breed - 0.000%\n",
      "Color - 0.000%\n"
     ]
    }
   ],
   "source": [
    "print(\"Intakes\\n\")    \n",
    "for col in df.columns:\n",
    "    missing = df[col].isnull().mean()\n",
    "    print(f'{col} - {missing :.3%}')"
   ]
  },
  {
   "cell_type": "markdown",
   "id": "609eb298",
   "metadata": {},
   "source": [
    "## Replacement/Adjustment of Null Values\n",
    "* Name\n",
    "    * No replacement necessary, as many intakes don't have names.\n",
    "* Sex upon Intake/Sex upon Outcome\n",
    "    * Null values should be replaced with \"Unknown\"\n"
   ]
  },
  {
   "cell_type": "code",
   "execution_count": 51,
   "id": "d6722bf2",
   "metadata": {},
   "outputs": [],
   "source": [
    "#Name null values should be replaced with \"Unknown\".\n",
    "df['Sex upon Intake'].fillna(\"Unknown\",inplace=True)"
   ]
  },
  {
   "cell_type": "code",
   "execution_count": 53,
   "id": "80e68c5a",
   "metadata": {},
   "outputs": [
    {
     "data": {
      "text/plain": [
       "0.0"
      ]
     },
     "execution_count": 53,
     "metadata": {},
     "output_type": "execute_result"
    }
   ],
   "source": [
    "df['Sex upon Intake'].isnull().mean()"
   ]
  },
  {
   "cell_type": "markdown",
   "id": "6786b715",
   "metadata": {},
   "source": [
    "## Converting the Age Column\n",
    "Age columns are listed as strings with varying units, so these need to be converted to be plottable. We will convert this column into months with a float datatype. Negative ages are converted to null values."
   ]
  },
  {
   "cell_type": "code",
   "execution_count": 55,
   "id": "de36ae6c",
   "metadata": {},
   "outputs": [],
   "source": [
    "def ageconvert(age):\n",
    "    if age == \"nan\":\n",
    "\n",
    "        return age\n",
    "    \n",
    "    split = str(age).split(' ',1)\n",
    "   \n",
    "    try:\n",
    "        if split[1] == 'week' or split[1] == 'weeks':\n",
    "            # The average number of weeks in a month is 4.345\n",
    "            age_months = round(float(split[0])/4.345,1)\n",
    "        if split[1] == 'year' or split[1] == 'years':\n",
    "            age_months = float(split[0])*12\n",
    "        if split[1] == 'day' or split[1] == 'days':\n",
    "            age_months = round(float(split[0])/7/4.345,1)\n",
    "        else: \n",
    "            age_months = float(split[0])\n",
    "    except:\n",
    "        age_months = np.nan\n",
    "\n",
    "    if age_months < 0:\n",
    "        # It is not possible for us to know what the negative ages were intended to be, so these are changed to null values.\n",
    "        age_months = np.nan\n",
    "    \n",
    "    return age_months    \n",
    "    \n",
    "df['Age upon Intake Months'] = df['Age upon Intake'].apply(ageconvert)"
   ]
  },
  {
   "cell_type": "markdown",
   "id": "bdf1a8a8",
   "metadata": {},
   "source": [
    "# Analyzing the Data\n",
    "The data is appropriately cleansed, and now we begin to try to answer some questions."
   ]
  },
  {
   "cell_type": "markdown",
   "id": "3e11f289",
   "metadata": {},
   "source": [
    "## Animal Age Analysis"
   ]
  },
  {
   "cell_type": "code",
   "execution_count": 57,
   "id": "7de2335d",
   "metadata": {},
   "outputs": [
    {
     "data": {
      "text/plain": [
       "count    124113.000000\n",
       "mean          3.376020\n",
       "std           2.938813\n",
       "min           0.000000\n",
       "25%           1.000000\n",
       "50%           2.000000\n",
       "75%           4.000000\n",
       "max          25.000000\n",
       "Name: Age upon Intake Months, dtype: float64"
      ]
     },
     "execution_count": 57,
     "metadata": {},
     "output_type": "execute_result"
    }
   ],
   "source": [
    "df['Age upon Intake Months'].describe()"
   ]
  },
  {
   "cell_type": "code",
   "execution_count": 60,
   "id": "be5f86f8",
   "metadata": {},
   "outputs": [
    {
     "data": {
      "image/png": "[encoded data removed]",
      "text/plain": [
       "<Figure size 432x288 with 1 Axes>"
      ]
     },
     "metadata": {
      "needs_background": "light"
     },
     "output_type": "display_data"
    }
   ],
   "source": [
    "sns.histplot(x='Age upon Intake Months', data=df,binwidth=1)\n",
    "plt.xlabel('Age upon Intake (Months)')\n",
    "plt.title('Animal Age upon Intake in Months')\n",
    "plt.show()"
   ]
  },
  {
   "cell_type": "code",
   "execution_count": 64,
   "id": "78d4e233",
   "metadata": {},
   "outputs": [
    {
     "data": {
      "text/plain": [
       "Text(0.5, 1.0, 'Age of Intakes by Species')"
      ]
     },
     "execution_count": 64,
     "metadata": {},
     "output_type": "execute_result"
    },
    {
     "data": {
      "image/png": "[encoded data removed]",
      "text/plain": [
       "<Figure size 432x288 with 1 Axes>"
      ]
     },
     "metadata": {
      "needs_background": "light"
     },
     "output_type": "display_data"
    }
   ],
   "source": [
    "sns.color_palette()\n",
    "sns.boxplot(data=df, x='Animal Type', y ='Age upon Intake Months')\n",
    "plt.title('Age of Intakes by Species')"
   ]
  },
  {
   "cell_type": "code",
   "execution_count": 65,
   "id": "6c3b12c8",
   "metadata": {},
   "outputs": [
    {
     "data": {
      "image/png": "[encoded data removed]",
      "text/plain": [
       "<Figure size 432x288 with 1 Axes>"
      ]
     },
     "metadata": {
      "needs_background": "light"
     },
     "output_type": "display_data"
    }
   ],
   "source": [
    "sns.violinplot(x='Animal Type', y='Age upon Intake Months', data=df)\n",
    "plt.xlabel('Animal Type')\n",
    "plt.ylabel('Age (months)')\n",
    "plt.title('Age of Intakes by Species')\n",
    "plt.show()"
   ]
  },
  {
   "cell_type": "markdown",
   "id": "42bc2576",
   "metadata": {},
   "source": [
    "* The age of intakes is skewed towards the younger side, with very few animals being taken in at over a year old\n",
    "    * Despite this, there is a relatively small number of animals that are taken in with an age of <1 month \n",
    "* Animals are about 3-1/3 months old upon intake on average\n",
    "    "
   ]
  },
  {
   "cell_type": "markdown",
   "id": "5d316c4c",
   "metadata": {},
   "source": [
    "## The Presence of Animal Names"
   ]
  },
  {
   "cell_type": "code",
   "execution_count": 68,
   "id": "f4e83bf9",
   "metadata": {},
   "outputs": [
    {
     "data": {
      "text/plain": [
       "Text(0.5, 1.0, 'Count of Intakes with and without Names')"
      ]
     },
     "execution_count": 68,
     "metadata": {},
     "output_type": "execute_result"
    },
    {
     "data": {
      "image/png": "[encoded data removed]",
      "text/plain": [
       "<Figure size 432x288 with 1 Axes>"
      ]
     },
     "metadata": {
      "needs_background": "light"
     },
     "output_type": "display_data"
    }
   ],
   "source": [
    "df['Named'] = df['Name'].isnull().map({True:'No Name', False:'Has Name'})\n",
    "\n",
    "sns.histplot(data=df, x='Named')\n",
    "plt.xlabel('Intake Name Status')\n",
    "plt.title('Count of Intakes with and without Names')"
   ]
  },
  {
   "cell_type": "markdown",
   "id": "91cd64c8",
   "metadata": {},
   "source": [
    "* About 2/3rds of intakes (68.5%) come in with a name. This naturally means that the rest (31.5%) come in without a name. "
   ]
  },
  {
   "cell_type": "code",
   "execution_count": 69,
   "id": "11470473",
   "metadata": {},
   "outputs": [
    {
     "data": {
      "text/html": [
       "<style type=\"text/css\">\n",
       "</style>\n",
       "<table id=\"T_dc848_\">\n",
       "  <thead>\n",
       "    <tr>\n",
       "      <th class=\"blank\" >&nbsp;</th>\n",
       "      <th class=\"blank level0\" >&nbsp;</th>\n",
       "      <th class=\"col_heading level0 col0\" >Count</th>\n",
       "      <th class=\"col_heading level0 col1\" >Percentage</th>\n",
       "    </tr>\n",
       "    <tr>\n",
       "      <th class=\"index_name level0\" >Named</th>\n",
       "      <th class=\"index_name level1\" >Animal Type</th>\n",
       "      <th class=\"blank col0\" >&nbsp;</th>\n",
       "      <th class=\"blank col1\" >&nbsp;</th>\n",
       "    </tr>\n",
       "  </thead>\n",
       "  <tbody>\n",
       "    <tr>\n",
       "      <th id=\"T_dc848_level0_row0\" class=\"row_heading level0 row0\" rowspan=\"5\">Has Name</th>\n",
       "      <th id=\"T_dc848_level1_row0\" class=\"row_heading level1 row0\" >Bird</th>\n",
       "      <td id=\"T_dc848_row0_col0\" class=\"data row0 col0\" >126</td>\n",
       "      <td id=\"T_dc848_row0_col1\" class=\"data row0 col1\" >0.10%</td>\n",
       "    </tr>\n",
       "    <tr>\n",
       "      <th id=\"T_dc848_level1_row1\" class=\"row_heading level1 row1\" >Cat</th>\n",
       "      <td id=\"T_dc848_row1_col0\" class=\"data row1 col0\" >25745</td>\n",
       "      <td id=\"T_dc848_row1_col1\" class=\"data row1 col1\" >20.74%</td>\n",
       "    </tr>\n",
       "    <tr>\n",
       "      <th id=\"T_dc848_level1_row2\" class=\"row_heading level1 row2\" >Dog</th>\n",
       "      <td id=\"T_dc848_row2_col0\" class=\"data row2 col0\" >58367</td>\n",
       "      <td id=\"T_dc848_row2_col1\" class=\"data row2 col1\" >47.02%</td>\n",
       "    </tr>\n",
       "    <tr>\n",
       "      <th id=\"T_dc848_level1_row3\" class=\"row_heading level1 row3\" >Livestock</th>\n",
       "      <td id=\"T_dc848_row3_col0\" class=\"data row3 col0\" >2</td>\n",
       "      <td id=\"T_dc848_row3_col1\" class=\"data row3 col1\" >0.00%</td>\n",
       "    </tr>\n",
       "    <tr>\n",
       "      <th id=\"T_dc848_level1_row4\" class=\"row_heading level1 row4\" >Other</th>\n",
       "      <td id=\"T_dc848_row4_col0\" class=\"data row4 col0\" >829</td>\n",
       "      <td id=\"T_dc848_row4_col1\" class=\"data row4 col1\" >0.67%</td>\n",
       "    </tr>\n",
       "    <tr>\n",
       "      <th id=\"T_dc848_level0_row5\" class=\"row_heading level0 row5\" rowspan=\"5\">No Name</th>\n",
       "      <th id=\"T_dc848_level1_row5\" class=\"row_heading level1 row5\" >Bird</th>\n",
       "      <td id=\"T_dc848_row5_col0\" class=\"data row5 col0\" >460</td>\n",
       "      <td id=\"T_dc848_row5_col1\" class=\"data row5 col1\" >0.37%</td>\n",
       "    </tr>\n",
       "    <tr>\n",
       "      <th id=\"T_dc848_level1_row6\" class=\"row_heading level1 row6\" >Cat</th>\n",
       "      <td id=\"T_dc848_row6_col0\" class=\"data row6 col0\" >20710</td>\n",
       "      <td id=\"T_dc848_row6_col1\" class=\"data row6 col1\" >16.69%</td>\n",
       "    </tr>\n",
       "    <tr>\n",
       "      <th id=\"T_dc848_level1_row7\" class=\"row_heading level1 row7\" >Dog</th>\n",
       "      <td id=\"T_dc848_row7_col0\" class=\"data row7 col0\" >12080</td>\n",
       "      <td id=\"T_dc848_row7_col1\" class=\"data row7 col1\" >9.73%</td>\n",
       "    </tr>\n",
       "    <tr>\n",
       "      <th id=\"T_dc848_level1_row8\" class=\"row_heading level1 row8\" >Livestock</th>\n",
       "      <td id=\"T_dc848_row8_col0\" class=\"data row8 col0\" >20</td>\n",
       "      <td id=\"T_dc848_row8_col1\" class=\"data row8 col1\" >0.02%</td>\n",
       "    </tr>\n",
       "    <tr>\n",
       "      <th id=\"T_dc848_level1_row9\" class=\"row_heading level1 row9\" >Other</th>\n",
       "      <td id=\"T_dc848_row9_col0\" class=\"data row9 col0\" >5781</td>\n",
       "      <td id=\"T_dc848_row9_col1\" class=\"data row9 col1\" >4.66%</td>\n",
       "    </tr>\n",
       "  </tbody>\n",
       "</table>\n"
      ],
      "text/plain": [
       "<pandas.io.formats.style.Styler at 0x21f56fded60>"
      ]
     },
     "execution_count": 69,
     "metadata": {},
     "output_type": "execute_result"
    },
    {
     "data": {
      "image/png": "[encoded data removed]",
      "text/plain": [
       "<Figure size 432x288 with 1 Axes>"
      ]
     },
     "metadata": {
      "needs_background": "light"
     },
     "output_type": "display_data"
    }
   ],
   "source": [
    "sns.histplot(data=df, x='Named', hue='Animal Type', multiple = 'dodge')\n",
    "plt.xlabel('Intake Name Status')\n",
    "plt.title('Count of Intakes with and without Names')\n",
    "\n",
    "name_comp = df[['Animal ID','Animal Type','Named']].groupby(['Named','Animal Type']).count()\n",
    "name_comp.rename(columns= {'Animal ID': 'Count'},inplace=True)\n",
    "name_comp['Percentage'] = name_comp['Count'] / name_comp['Count'].sum()\n",
    "\n",
    "name_comp.style.format({\n",
    "    'Percentage': '{:,.2%}'.format,\n",
    "})"
   ]
  },
  {
   "cell_type": "markdown",
   "id": "f2859c4c",
   "metadata": {},
   "source": [
    "* Other types are highly likely to have no name\n",
    "    * This is likely explained by the fact that wildlife is included in the \"Other\" animal type."
   ]
  },
  {
   "cell_type": "markdown",
   "id": "28cd0e2a",
   "metadata": {},
   "source": [
    "## Repeated Intakes\n",
    "Some animals are taken in multiple times. What differences exist between the group of animals that were only taken in once versus the group of animals that have been taken in multiple times?"
   ]
  },
  {
   "cell_type": "code",
   "execution_count": 86,
   "id": "61069de6",
   "metadata": {},
   "outputs": [],
   "source": [
    "intakes_dup = df[df['Animal ID'].duplicated(keep=False)]\n",
    "\n",
    "intakes_uniq = df[~df['Animal ID'].duplicated(keep=False)]"
   ]
  },
  {
   "cell_type": "code",
   "execution_count": 78,
   "id": "2b54517c",
   "metadata": {},
   "outputs": [
    {
     "name": "stdout",
     "output_type": "stream",
     "text": [
      "The total count of unique intakes is 100823 \n",
      "The total count of multiple intakes is 23297 \n"
     ]
    },
    {
     "data": {
      "text/html": [
       "<style type=\"text/css\">\n",
       "</style>\n",
       "<table id=\"T_18777_\">\n",
       "  <thead>\n",
       "    <tr>\n",
       "      <th class=\"blank\" >&nbsp;</th>\n",
       "      <th class=\"blank level0\" >&nbsp;</th>\n",
       "      <th class=\"col_heading level0 col0\" >Count multiple intakes</th>\n",
       "      <th class=\"col_heading level0 col1\" >Percentage multiple intakes</th>\n",
       "      <th class=\"col_heading level0 col2\" >Count unique intakes</th>\n",
       "      <th class=\"col_heading level0 col3\" >Percentage unique intakes</th>\n",
       "    </tr>\n",
       "    <tr>\n",
       "      <th class=\"index_name level0\" >Intake Type</th>\n",
       "      <th class=\"index_name level1\" >Animal Type</th>\n",
       "      <th class=\"blank col0\" >&nbsp;</th>\n",
       "      <th class=\"blank col1\" >&nbsp;</th>\n",
       "      <th class=\"blank col2\" >&nbsp;</th>\n",
       "      <th class=\"blank col3\" >&nbsp;</th>\n",
       "    </tr>\n",
       "  </thead>\n",
       "  <tbody>\n",
       "    <tr>\n",
       "      <th id=\"T_18777_level0_row0\" class=\"row_heading level0 row0\" rowspan=\"5\">Abandoned</th>\n",
       "      <th id=\"T_18777_level1_row0\" class=\"row_heading level1 row0\" >Bird</th>\n",
       "      <td id=\"T_18777_row0_col0\" class=\"data row0 col0\" >0</td>\n",
       "      <td id=\"T_18777_row0_col1\" class=\"data row0 col1\" >0.00%</td>\n",
       "      <td id=\"T_18777_row0_col2\" class=\"data row0 col2\" >0</td>\n",
       "      <td id=\"T_18777_row0_col3\" class=\"data row0 col3\" >0.00%</td>\n",
       "    </tr>\n",
       "    <tr>\n",
       "      <th id=\"T_18777_level1_row1\" class=\"row_heading level1 row1\" >Cat</th>\n",
       "      <td id=\"T_18777_row1_col0\" class=\"data row1 col0\" >5</td>\n",
       "      <td id=\"T_18777_row1_col1\" class=\"data row1 col1\" >0.02%</td>\n",
       "      <td id=\"T_18777_row1_col2\" class=\"data row1 col2\" >101</td>\n",
       "      <td id=\"T_18777_row1_col3\" class=\"data row1 col3\" >0.10%</td>\n",
       "    </tr>\n",
       "    <tr>\n",
       "      <th id=\"T_18777_level1_row2\" class=\"row_heading level1 row2\" >Dog</th>\n",
       "      <td id=\"T_18777_row2_col0\" class=\"data row2 col0\" >25</td>\n",
       "      <td id=\"T_18777_row2_col1\" class=\"data row2 col1\" >0.11%</td>\n",
       "      <td id=\"T_18777_row2_col2\" class=\"data row2 col2\" >136</td>\n",
       "      <td id=\"T_18777_row2_col3\" class=\"data row2 col3\" >0.13%</td>\n",
       "    </tr>\n",
       "    <tr>\n",
       "      <th id=\"T_18777_level1_row3\" class=\"row_heading level1 row3\" >Livestock</th>\n",
       "      <td id=\"T_18777_row3_col0\" class=\"data row3 col0\" >0</td>\n",
       "      <td id=\"T_18777_row3_col1\" class=\"data row3 col1\" >0.00%</td>\n",
       "      <td id=\"T_18777_row3_col2\" class=\"data row3 col2\" >0</td>\n",
       "      <td id=\"T_18777_row3_col3\" class=\"data row3 col3\" >0.00%</td>\n",
       "    </tr>\n",
       "    <tr>\n",
       "      <th id=\"T_18777_level1_row4\" class=\"row_heading level1 row4\" >Other</th>\n",
       "      <td id=\"T_18777_row4_col0\" class=\"data row4 col0\" >1</td>\n",
       "      <td id=\"T_18777_row4_col1\" class=\"data row4 col1\" >0.00%</td>\n",
       "      <td id=\"T_18777_row4_col2\" class=\"data row4 col2\" >15</td>\n",
       "      <td id=\"T_18777_row4_col3\" class=\"data row4 col3\" >0.01%</td>\n",
       "    </tr>\n",
       "    <tr>\n",
       "      <th id=\"T_18777_level0_row5\" class=\"row_heading level0 row5\" rowspan=\"5\">Euthanasia Request</th>\n",
       "      <th id=\"T_18777_level1_row5\" class=\"row_heading level1 row5\" >Bird</th>\n",
       "      <td id=\"T_18777_row5_col0\" class=\"data row5 col0\" >0</td>\n",
       "      <td id=\"T_18777_row5_col1\" class=\"data row5 col1\" >0.00%</td>\n",
       "      <td id=\"T_18777_row5_col2\" class=\"data row5 col2\" >3</td>\n",
       "      <td id=\"T_18777_row5_col3\" class=\"data row5 col3\" >0.00%</td>\n",
       "    </tr>\n",
       "    <tr>\n",
       "      <th id=\"T_18777_level1_row6\" class=\"row_heading level1 row6\" >Cat</th>\n",
       "      <td id=\"T_18777_row6_col0\" class=\"data row6 col0\" >8</td>\n",
       "      <td id=\"T_18777_row6_col1\" class=\"data row6 col1\" >0.03%</td>\n",
       "      <td id=\"T_18777_row6_col2\" class=\"data row6 col2\" >50</td>\n",
       "      <td id=\"T_18777_row6_col3\" class=\"data row6 col3\" >0.05%</td>\n",
       "    </tr>\n",
       "    <tr>\n",
       "      <th id=\"T_18777_level1_row7\" class=\"row_heading level1 row7\" >Dog</th>\n",
       "      <td id=\"T_18777_row7_col0\" class=\"data row7 col0\" >12</td>\n",
       "      <td id=\"T_18777_row7_col1\" class=\"data row7 col1\" >0.05%</td>\n",
       "      <td id=\"T_18777_row7_col2\" class=\"data row7 col2\" >170</td>\n",
       "      <td id=\"T_18777_row7_col3\" class=\"data row7 col3\" >0.17%</td>\n",
       "    </tr>\n",
       "    <tr>\n",
       "      <th id=\"T_18777_level1_row8\" class=\"row_heading level1 row8\" >Livestock</th>\n",
       "      <td id=\"T_18777_row8_col0\" class=\"data row8 col0\" >0</td>\n",
       "      <td id=\"T_18777_row8_col1\" class=\"data row8 col1\" >0.00%</td>\n",
       "      <td id=\"T_18777_row8_col2\" class=\"data row8 col2\" >0</td>\n",
       "      <td id=\"T_18777_row8_col3\" class=\"data row8 col3\" >0.00%</td>\n",
       "    </tr>\n",
       "    <tr>\n",
       "      <th id=\"T_18777_level1_row9\" class=\"row_heading level1 row9\" >Other</th>\n",
       "      <td id=\"T_18777_row9_col0\" class=\"data row9 col0\" >1</td>\n",
       "      <td id=\"T_18777_row9_col1\" class=\"data row9 col1\" >0.00%</td>\n",
       "      <td id=\"T_18777_row9_col2\" class=\"data row9 col2\" >13</td>\n",
       "      <td id=\"T_18777_row9_col3\" class=\"data row9 col3\" >0.01%</td>\n",
       "    </tr>\n",
       "    <tr>\n",
       "      <th id=\"T_18777_level0_row10\" class=\"row_heading level0 row10\" rowspan=\"5\">Owner Surrender</th>\n",
       "      <th id=\"T_18777_level1_row10\" class=\"row_heading level1 row10\" >Bird</th>\n",
       "      <td id=\"T_18777_row10_col0\" class=\"data row10 col0\" >0</td>\n",
       "      <td id=\"T_18777_row10_col1\" class=\"data row10 col1\" >0.00%</td>\n",
       "      <td id=\"T_18777_row10_col2\" class=\"data row10 col2\" >61</td>\n",
       "      <td id=\"T_18777_row10_col3\" class=\"data row10 col3\" >0.06%</td>\n",
       "    </tr>\n",
       "    <tr>\n",
       "      <th id=\"T_18777_level1_row11\" class=\"row_heading level1 row11\" >Cat</th>\n",
       "      <td id=\"T_18777_row11_col0\" class=\"data row11 col0\" >1929</td>\n",
       "      <td id=\"T_18777_row11_col1\" class=\"data row11 col1\" >8.28%</td>\n",
       "      <td id=\"T_18777_row11_col2\" class=\"data row11 col2\" >7201</td>\n",
       "      <td id=\"T_18777_row11_col3\" class=\"data row11 col3\" >7.14%</td>\n",
       "    </tr>\n",
       "    <tr>\n",
       "      <th id=\"T_18777_level1_row12\" class=\"row_heading level1 row12\" >Dog</th>\n",
       "      <td id=\"T_18777_row12_col0\" class=\"data row12 col0\" >6319</td>\n",
       "      <td id=\"T_18777_row12_col1\" class=\"data row12 col1\" >27.12%</td>\n",
       "      <td id=\"T_18777_row12_col2\" class=\"data row12 col2\" >8496</td>\n",
       "      <td id=\"T_18777_row12_col3\" class=\"data row12 col3\" >8.43%</td>\n",
       "    </tr>\n",
       "    <tr>\n",
       "      <th id=\"T_18777_level1_row13\" class=\"row_heading level1 row13\" >Livestock</th>\n",
       "      <td id=\"T_18777_row13_col0\" class=\"data row13 col0\" >0</td>\n",
       "      <td id=\"T_18777_row13_col1\" class=\"data row13 col1\" >0.00%</td>\n",
       "      <td id=\"T_18777_row13_col2\" class=\"data row13 col2\" >1</td>\n",
       "      <td id=\"T_18777_row13_col3\" class=\"data row13 col3\" >0.00%</td>\n",
       "    </tr>\n",
       "    <tr>\n",
       "      <th id=\"T_18777_level1_row14\" class=\"row_heading level1 row14\" >Other</th>\n",
       "      <td id=\"T_18777_row14_col0\" class=\"data row14 col0\" >27</td>\n",
       "      <td id=\"T_18777_row14_col1\" class=\"data row14 col1\" >0.12%</td>\n",
       "      <td id=\"T_18777_row14_col2\" class=\"data row14 col2\" >572</td>\n",
       "      <td id=\"T_18777_row14_col3\" class=\"data row14 col3\" >0.57%</td>\n",
       "    </tr>\n",
       "    <tr>\n",
       "      <th id=\"T_18777_level0_row15\" class=\"row_heading level0 row15\" rowspan=\"5\">Public Assist</th>\n",
       "      <th id=\"T_18777_level1_row15\" class=\"row_heading level1 row15\" >Bird</th>\n",
       "      <td id=\"T_18777_row15_col0\" class=\"data row15 col0\" >0</td>\n",
       "      <td id=\"T_18777_row15_col1\" class=\"data row15 col1\" >0.00%</td>\n",
       "      <td id=\"T_18777_row15_col2\" class=\"data row15 col2\" >128</td>\n",
       "      <td id=\"T_18777_row15_col3\" class=\"data row15 col3\" >0.13%</td>\n",
       "    </tr>\n",
       "    <tr>\n",
       "      <th id=\"T_18777_level1_row16\" class=\"row_heading level1 row16\" >Cat</th>\n",
       "      <td id=\"T_18777_row16_col0\" class=\"data row16 col0\" >134</td>\n",
       "      <td id=\"T_18777_row16_col1\" class=\"data row16 col1\" >0.58%</td>\n",
       "      <td id=\"T_18777_row16_col2\" class=\"data row16 col2\" >903</td>\n",
       "      <td id=\"T_18777_row16_col3\" class=\"data row16 col3\" >0.90%</td>\n",
       "    </tr>\n",
       "    <tr>\n",
       "      <th id=\"T_18777_level1_row17\" class=\"row_heading level1 row17\" >Dog</th>\n",
       "      <td id=\"T_18777_row17_col0\" class=\"data row17 col0\" >1987</td>\n",
       "      <td id=\"T_18777_row17_col1\" class=\"data row17 col1\" >8.53%</td>\n",
       "      <td id=\"T_18777_row17_col2\" class=\"data row17 col2\" >4160</td>\n",
       "      <td id=\"T_18777_row17_col3\" class=\"data row17 col3\" >4.13%</td>\n",
       "    </tr>\n",
       "    <tr>\n",
       "      <th id=\"T_18777_level1_row18\" class=\"row_heading level1 row18\" >Livestock</th>\n",
       "      <td id=\"T_18777_row18_col0\" class=\"data row18 col0\" >0</td>\n",
       "      <td id=\"T_18777_row18_col1\" class=\"data row18 col1\" >0.00%</td>\n",
       "      <td id=\"T_18777_row18_col2\" class=\"data row18 col2\" >1</td>\n",
       "      <td id=\"T_18777_row18_col3\" class=\"data row18 col3\" >0.00%</td>\n",
       "    </tr>\n",
       "    <tr>\n",
       "      <th id=\"T_18777_level1_row19\" class=\"row_heading level1 row19\" >Other</th>\n",
       "      <td id=\"T_18777_row19_col0\" class=\"data row19 col0\" >3</td>\n",
       "      <td id=\"T_18777_row19_col1\" class=\"data row19 col1\" >0.01%</td>\n",
       "      <td id=\"T_18777_row19_col2\" class=\"data row19 col2\" >305</td>\n",
       "      <td id=\"T_18777_row19_col3\" class=\"data row19 col3\" >0.30%</td>\n",
       "    </tr>\n",
       "    <tr>\n",
       "      <th id=\"T_18777_level0_row20\" class=\"row_heading level0 row20\" rowspan=\"5\">Stray</th>\n",
       "      <th id=\"T_18777_level1_row20\" class=\"row_heading level1 row20\" >Bird</th>\n",
       "      <td id=\"T_18777_row20_col0\" class=\"data row20 col0\" >0</td>\n",
       "      <td id=\"T_18777_row20_col1\" class=\"data row20 col1\" >0.00%</td>\n",
       "      <td id=\"T_18777_row20_col2\" class=\"data row20 col2\" >289</td>\n",
       "      <td id=\"T_18777_row20_col3\" class=\"data row20 col3\" >0.29%</td>\n",
       "    </tr>\n",
       "    <tr>\n",
       "      <th id=\"T_18777_level1_row21\" class=\"row_heading level1 row21\" >Cat</th>\n",
       "      <td id=\"T_18777_row21_col0\" class=\"data row21 col0\" >1967</td>\n",
       "      <td id=\"T_18777_row21_col1\" class=\"data row21 col1\" >8.44%</td>\n",
       "      <td id=\"T_18777_row21_col2\" class=\"data row21 col2\" >34157</td>\n",
       "      <td id=\"T_18777_row21_col3\" class=\"data row21 col3\" >33.88%</td>\n",
       "    </tr>\n",
       "    <tr>\n",
       "      <th id=\"T_18777_level1_row22\" class=\"row_heading level1 row22\" >Dog</th>\n",
       "      <td id=\"T_18777_row22_col0\" class=\"data row22 col0\" >10856</td>\n",
       "      <td id=\"T_18777_row22_col1\" class=\"data row22 col1\" >46.60%</td>\n",
       "      <td id=\"T_18777_row22_col2\" class=\"data row22 col2\" >38286</td>\n",
       "      <td id=\"T_18777_row22_col3\" class=\"data row22 col3\" >37.97%</td>\n",
       "    </tr>\n",
       "    <tr>\n",
       "      <th id=\"T_18777_level1_row23\" class=\"row_heading level1 row23\" >Livestock</th>\n",
       "      <td id=\"T_18777_row23_col0\" class=\"data row23 col0\" >0</td>\n",
       "      <td id=\"T_18777_row23_col1\" class=\"data row23 col1\" >0.00%</td>\n",
       "      <td id=\"T_18777_row23_col2\" class=\"data row23 col2\" >20</td>\n",
       "      <td id=\"T_18777_row23_col3\" class=\"data row23 col3\" >0.02%</td>\n",
       "    </tr>\n",
       "    <tr>\n",
       "      <th id=\"T_18777_level1_row24\" class=\"row_heading level1 row24\" >Other</th>\n",
       "      <td id=\"T_18777_row24_col0\" class=\"data row24 col0\" >15</td>\n",
       "      <td id=\"T_18777_row24_col1\" class=\"data row24 col1\" >0.06%</td>\n",
       "      <td id=\"T_18777_row24_col2\" class=\"data row24 col2\" >865</td>\n",
       "      <td id=\"T_18777_row24_col3\" class=\"data row24 col3\" >0.86%</td>\n",
       "    </tr>\n",
       "    <tr>\n",
       "      <th id=\"T_18777_level0_row25\" class=\"row_heading level0 row25\" rowspan=\"5\">Wildlife</th>\n",
       "      <th id=\"T_18777_level1_row25\" class=\"row_heading level1 row25\" >Bird</th>\n",
       "      <td id=\"T_18777_row25_col0\" class=\"data row25 col0\" >0</td>\n",
       "      <td id=\"T_18777_row25_col1\" class=\"data row25 col1\" >0.00%</td>\n",
       "      <td id=\"T_18777_row25_col2\" class=\"data row25 col2\" >105</td>\n",
       "      <td id=\"T_18777_row25_col3\" class=\"data row25 col3\" >0.10%</td>\n",
       "    </tr>\n",
       "    <tr>\n",
       "      <th id=\"T_18777_level1_row26\" class=\"row_heading level1 row26\" >Cat</th>\n",
       "      <td id=\"T_18777_row26_col0\" class=\"data row26 col0\" >0</td>\n",
       "      <td id=\"T_18777_row26_col1\" class=\"data row26 col1\" >0.00%</td>\n",
       "      <td id=\"T_18777_row26_col2\" class=\"data row26 col2\" >0</td>\n",
       "      <td id=\"T_18777_row26_col3\" class=\"data row26 col3\" >0.00%</td>\n",
       "    </tr>\n",
       "    <tr>\n",
       "      <th id=\"T_18777_level1_row27\" class=\"row_heading level1 row27\" >Dog</th>\n",
       "      <td id=\"T_18777_row27_col0\" class=\"data row27 col0\" >0</td>\n",
       "      <td id=\"T_18777_row27_col1\" class=\"data row27 col1\" >0.00%</td>\n",
       "      <td id=\"T_18777_row27_col2\" class=\"data row27 col2\" >0</td>\n",
       "      <td id=\"T_18777_row27_col3\" class=\"data row27 col3\" >0.00%</td>\n",
       "    </tr>\n",
       "    <tr>\n",
       "      <th id=\"T_18777_level1_row28\" class=\"row_heading level1 row28\" >Livestock</th>\n",
       "      <td id=\"T_18777_row28_col0\" class=\"data row28 col0\" >0</td>\n",
       "      <td id=\"T_18777_row28_col1\" class=\"data row28 col1\" >0.00%</td>\n",
       "      <td id=\"T_18777_row28_col2\" class=\"data row28 col2\" >0</td>\n",
       "      <td id=\"T_18777_row28_col3\" class=\"data row28 col3\" >0.00%</td>\n",
       "    </tr>\n",
       "    <tr>\n",
       "      <th id=\"T_18777_level1_row29\" class=\"row_heading level1 row29\" >Other</th>\n",
       "      <td id=\"T_18777_row29_col0\" class=\"data row29 col0\" >8</td>\n",
       "      <td id=\"T_18777_row29_col1\" class=\"data row29 col1\" >0.03%</td>\n",
       "      <td id=\"T_18777_row29_col2\" class=\"data row29 col2\" >4785</td>\n",
       "      <td id=\"T_18777_row29_col3\" class=\"data row29 col3\" >4.75%</td>\n",
       "    </tr>\n",
       "  </tbody>\n",
       "</table>\n"
      ],
      "text/plain": [
       "<pandas.io.formats.style.Styler at 0x21f52425640>"
      ]
     },
     "execution_count": 78,
     "metadata": {},
     "output_type": "execute_result"
    }
   ],
   "source": [
    "dup_count = intakes_dup[['Intake Type','Animal Type','Animal ID']].groupby(['Intake Type','Animal Type']).count()\n",
    "dup_count.rename(columns= {'Animal ID': 'Count'},inplace=True)\n",
    "dup_count['Percentage'] = dup_count['Count']/ dup_count['Count'].sum()\n",
    "\n",
    "\n",
    "uniq_count = intakes_uniq[['Intake Type','Animal Type','Animal ID']].groupby(['Intake Type','Animal Type']).count()\n",
    "uniq_count.rename(columns= {'Animal ID': 'Count'},inplace=True)\n",
    "uniq_count['Percentage'] = uniq_count['Count']/ uniq_count['Count'].sum()\n",
    "\n",
    "\n",
    "dup_vs_uniq = dup_count.merge(uniq_count,left_index = True, right_index = True, suffixes=[\" multiple intakes\",\" unique intakes\"])\n",
    "\n",
    "print(f\"The total count of unique intakes is {uniq_count['Count'].sum()} \")\n",
    "print(f\"The total count of multiple intakes is {dup_count['Count'].sum()} \")\n",
    "\n",
    "dup_vs_uniq.style.format({\n",
    "    'Percentage multiple intakes': '{:,.2%}'.format,\n",
    "    'Percentage unique intakes': '{:,.2%}'.format,\n",
    "})\n"
   ]
  },
  {
   "cell_type": "code",
   "execution_count": 79,
   "id": "3ab785d0",
   "metadata": {},
   "outputs": [
    {
     "data": {
      "text/plain": [
       "<Figure size 432x288 with 0 Axes>"
      ]
     },
     "metadata": {},
     "output_type": "display_data"
    },
    {
     "data": {
      "image/png": "[encoded data removed]",
      "text/plain": [
       "<Figure size 864x360 with 2 Axes>"
      ]
     },
     "metadata": {},
     "output_type": "display_data"
    }
   ],
   "source": [
    "plt.clf()\n",
    "\n",
    "\n",
    "\n",
    "fig, ax = plt.subplots(1, 2, sharey=True, figsize=(12,5))\n",
    "_ = fig.suptitle('Intake Type Comparison')\n",
    "\n",
    "\n",
    "_ = sns.histplot(intakes_uniq, x='Intake Type', hue='Animal Type', multiple='stack', ax=ax[0])\n",
    "_ = ax[0].set_title('Unique Intakes')\n",
    "_ = ax[0].tick_params(axis='x', rotation=90)\n",
    "\n",
    "\n",
    "_ = sns.histplot(intakes_dup, x='Intake Type', hue='Animal Type', multiple='stack', ax=ax[1])\n",
    "_ = ax[1].set_title('Repeat Intakes')\n",
    "_ = ax[1].tick_params(axis='x', rotation=90)\n",
    "\n",
    "\n",
    "plt.show();"
   ]
  },
  {
   "cell_type": "markdown",
   "id": "b6c33024",
   "metadata": {},
   "source": [
    "### Immediate Takeaways\n",
    "\n",
    "* Wildlife, somewhat obviously, is almost never taken in multiple times (only 8 instances in a dataset containing 124k intakes)\n",
    "* Dogs account for the large majority of animals that were taken in multiple times (82.4%), but only about half of the animals that had been taken in a single time at the time the dataset was assembled(50.8%).\n"
   ]
  },
  {
   "cell_type": "code",
   "execution_count": null,
   "id": "7170588a",
   "metadata": {},
   "outputs": [],
   "source": []
  }
 ],
 "metadata": {
  "kernelspec": {
   "display_name": "Python 3 (ipykernel)",
   "language": "python",
   "name": "python3"
  },
  "language_info": {
   "codemirror_mode": {
    "name": "ipython",
    "version": 3
   },
   "file_extension": ".py",
   "mimetype": "text/x-python",
   "name": "python",
   "nbconvert_exporter": "python",
   "pygments_lexer": "ipython3",
   "version": "3.9.7"
  }
 },
 "nbformat": 4,
 "nbformat_minor": 5
}
